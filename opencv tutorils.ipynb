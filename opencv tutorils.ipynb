{
 "cells": [
  {
   "cell_type": "code",
   "execution_count": 6,
   "metadata": {},
   "outputs": [],
   "source": [
    "import cv2\n",
    "img = cv2.imread(\"anand.jpeg\",0)"
   ]
  },
  {
   "cell_type": "code",
   "execution_count": 7,
   "metadata": {},
   "outputs": [
    {
     "data": {
      "text/plain": [
       "True"
      ]
     },
     "execution_count": 7,
     "metadata": {},
     "output_type": "execute_result"
    }
   ],
   "source": [
    "cv2.imshow(\"anand\", img)\n",
    "  \n",
    "#waits for user to press any key \n",
    "#(this is necessary to avoid Python kernel form crashing)\n",
    "cv2.waitKey(0) \n",
    "  \n",
    "# #closing all open windows \n",
    "cv2.destroyAllWindows() \n",
    "\n",
    "cv2.imwrite('anand_copy.png', img)"
   ]
  },
  {
   "cell_type": "code",
   "execution_count": null,
   "metadata": {},
   "outputs": [],
   "source": [
    "ls"
   ]
  },
  {
   "cell_type": "code",
   "execution_count": 4,
   "metadata": {},
   "outputs": [
    {
     "name": "stdout",
     "output_type": "stream",
     "text": [
      "[[[198 171  97]\n",
      "  [204 177 103]\n",
      "  [210 178 105]\n",
      "  ...\n",
      "  [200 165  92]\n",
      "  [201 165  95]\n",
      "  [202 164  99]]\n",
      "\n",
      " [[195 168  94]\n",
      "  [199 172  98]\n",
      "  [205 173 100]\n",
      "  ...\n",
      "  [202 167  94]\n",
      "  [217 181 111]\n",
      "  [201 163  98]]\n",
      "\n",
      " [[196 169  95]\n",
      "  [198 171  97]\n",
      "  [202 170  97]\n",
      "  ...\n",
      "  [192 157  84]\n",
      "  [208 172 102]\n",
      "  [202 164  99]]\n",
      "\n",
      " ...\n",
      "\n",
      " [[181 172 235]\n",
      "  [177 169 222]\n",
      "  [189 186 218]\n",
      "  ...\n",
      "  [209 197 227]\n",
      "  [212 195 232]\n",
      "  [206 188 229]]\n",
      "\n",
      " [[174 164 230]\n",
      "  [178 169 225]\n",
      "  [181 177 212]\n",
      "  ...\n",
      "  [212 201 233]\n",
      "  [200 185 223]\n",
      "  [206 187 230]]\n",
      "\n",
      " [[170 160 226]\n",
      "  [180 171 227]\n",
      "  [179 175 211]\n",
      "  ...\n",
      "  [209 198 230]\n",
      "  [207 194 232]\n",
      "  [209 189 234]]]\n"
     ]
    }
   ],
   "source": [
    "print(img)"
   ]
  },
  {
   "cell_type": "code",
   "execution_count": 3,
   "metadata": {},
   "outputs": [],
   "source": [
    "import cv2\n",
    "img = cv2.imread(\"anand.jpeg\",-1)\n",
    "cv2.imshow(\"anand\", img)\n",
    "k=cv2.waitKey(0) \n",
    "if k==27:\n",
    "    cv2.destroyAllWindows() \n",
    "elif k==ord('s'):\n",
    "    cv2.imwrite('anand_copy.png', img)\n",
    "    cv2.destroyAllWindows()"
   ]
  },
  {
   "cell_type": "code",
   "execution_count": null,
   "metadata": {},
   "outputs": [],
   "source": []
  }
 ],
 "metadata": {
  "kernelspec": {
   "display_name": "Python 3",
   "language": "python",
   "name": "python3"
  },
  "language_info": {
   "codemirror_mode": {
    "name": "ipython",
    "version": 3
   },
   "file_extension": ".py",
   "mimetype": "text/x-python",
   "name": "python",
   "nbconvert_exporter": "python",
   "pygments_lexer": "ipython3",
   "version": "3.6.9"
  }
 },
 "nbformat": 4,
 "nbformat_minor": 4
}
